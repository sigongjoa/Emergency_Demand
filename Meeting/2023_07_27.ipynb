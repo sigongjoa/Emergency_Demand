{
 "cells": [
  {
   "cell_type": "markdown",
   "id": "67c6aca3",
   "metadata": {},
   "source": [
    "# 2023_07_27\n",
    "\n",
    "\n",
    "### early stopping option 변경\n",
    "\n",
    "현재 val_loss를 확인 했을 때에는 early stopping이 전혀 적용되지 않고 있는 상황임  \n",
    "min_delta가 1e-4로 설정되어 있는데 val_loss가 1e-5 단위에서 움직이고 있음  \n",
    "val_loss를 더 줄여서 early stopping이 적용되도록 변경이 필요  \n",
    "\n",
    "### spatial sparsity\n",
    "\n",
    "이웃한 geohash에 대한 정보를 이용해서 학습을 진행  \n",
    "\n",
    "> 데이터 생성용 noteobook : http://202.31.200.194:8888/notebooks/NPLAB-NAS/Members/SEO/Emergency_Demand/Traffic_Accient/TFT/Long%20Beach_5/spatial%20sparsity.ipynb\n",
    "\n",
    "> training python code : http://202.31.200.194:8888/edit/NPLAB-NAS/Members/SEO/Emergency_Demand/Traffic_Accient/TFT/Long%20Beach_5/BaseModel_Target_nei.py\n",
    "\n",
    "\n",
    "### training fix\n",
    "TFT의 변수들을 time_varying_known_reals에 넣어서 학습을 하고 있었음  \n",
    "time_varying_known_reals는 시간에 따라서 변하지 않는 변수들임  \n",
    "이러한 변수는들은 실제로 정보량이 크지 않음  \n",
    "이를 이를 TFT를 gate를 이용해서 이에 대한 정보를 적게 반영하는데 실제로 위에서 사용하는 변수는 unknown값이라서 실제 정보의 영향력에 대해서 적게 들어간 것 같음  \n",
    "\n",
    "실제로 학습을 비교 했을 때 known에 들어갔을 때는 5 epoch이 가장 val_loss가 낮았으나  \n",
    "unknown으로 학습 했을 때는 10 epoch에서도 더 줄어드는 그래프가 나왔음  \n",
    "\n",
    "셋팅 변경한 이후 lr tuning의 결과  \n",
    "\n",
    "> Long Beach 5 training : http://202.31.200.194:8888/edit/NPLAB-NAS/Members/SEO/Emergency_Demand/Traffic_Accient/TFT/Long%20Beach_5/BaseModel.py\n",
    "\n",
    "> Long Beach 5 Tensorboard : http://202.31.200.70:8888/notebooks/NPLAB-NAS/Members/SEO/Emergency_Demand/Traffic_Accient/TFT/Long%20Beach_5/tensorboard_Long%20Beach_5.ipynb\n",
    "\n",
    "> Long Beach 5 result csv: http://202.31.200.70:8888/notebooks/NPLAB-NAS/Members/SEO/Emergency_Demand/Traffic_Accient/TFT/Long%20Beach_5/ControlGroup_result/csv/csv_veiw.ipynb\n",
    "\n",
    "\n",
    "> Long Beach 5 training result : http://202.31.200.194:8888/tree/NPLAB-NAS/Members/SEO/Emergency_Demand/Traffic_Accient/TFT/Long%20Beach_5/ControlGroup_result\n",
    "\n",
    "![](../Meeting_Img/2023_07_27_1.png)\n",
    "\n",
    "![](../Meeting_Img/2023_07_27_2.png)"
   ]
  },
  {
   "cell_type": "code",
   "execution_count": null,
   "id": "cd57b9a2",
   "metadata": {},
   "outputs": [],
   "source": [
    "\n"
   ]
  }
 ],
 "metadata": {
  "kernelspec": {
   "display_name": "Python 3 (ipykernel)",
   "language": "python",
   "name": "python3"
  },
  "language_info": {
   "codemirror_mode": {
    "name": "ipython",
    "version": 3
   },
   "file_extension": ".py",
   "mimetype": "text/x-python",
   "name": "python",
   "nbconvert_exporter": "python",
   "pygments_lexer": "ipython3",
   "version": "3.8.10"
  }
 },
 "nbformat": 4,
 "nbformat_minor": 5
}
