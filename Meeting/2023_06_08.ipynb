{
 "cells": [
  {
   "cell_type": "markdown",
   "id": "4cc6695d",
   "metadata": {},
   "source": [
    "# 2023_06_08\n",
    "\n",
    "### Month prediction\n",
    "현재 하루 단위로 예측을 하고 있음  \n",
    "이를 한달 단위로 예측하도록 변경\n",
    "\n",
    "### result\n",
    "학습의 결과에 대해서 confusion matrix 밑 f1 score를 이용해서 결과를 비교  \n",
    "\n",
    "> 결과 생성 코드 : http://202.31.200.194:8888/notebooks/NPLAB-NAS/Members/SEO/Emergency_Demand/Traffic_Accient/TFT/Confusion_matrix.ipynb\n",
    "\n",
    "하지만 현재 data leakage로 성능이 좋게 나옴  \n",
    "결과 확인후 성능이 좋은 setting을 가져와서 다시 학습 후 결과 확인이 필요  \n",
    "\n",
    "plt로 결과를 확인해봤는데 결과의 비교가 어려움  \n",
    "이를 plotly를 이용해서 interactive하게 만듬  \n",
    "\n",
    "Possion으로 학습을했을때는 예측값이 -1 또는0으로 나와서 절대값으로 후처리 진행함  \n",
    "\n",
    "transform 별로 결과값이 일정하지 않아서 확인이 필요함  \n",
    "학습이 덜되는 부분이 있는것처럼 보임 -> early stopping option을 다르게해야 할 것 같음  \n",
    "\n"
   ]
  },
  {
   "cell_type": "code",
   "execution_count": null,
   "id": "0bc81aee",
   "metadata": {},
   "outputs": [],
   "source": []
  }
 ],
 "metadata": {
  "kernelspec": {
   "display_name": "Python 3",
   "language": "python",
   "name": "python3"
  },
  "language_info": {
   "codemirror_mode": {
    "name": "ipython",
    "version": 3
   },
   "file_extension": ".py",
   "mimetype": "text/x-python",
   "name": "python",
   "nbconvert_exporter": "python",
   "pygments_lexer": "ipython3",
   "version": "3.8.10"
  }
 },
 "nbformat": 4,
 "nbformat_minor": 5
}
