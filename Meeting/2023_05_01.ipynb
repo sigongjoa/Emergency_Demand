{
 "cells": [
  {
   "cell_type": "markdown",
   "id": "586b2e5f",
   "metadata": {},
   "source": [
    "# 2023_05_01\n",
    "\n",
    "### raw data 생성\n",
    "\n",
    "앞에서 데이터를 만들 때 하나의 mulit_index의 경우에 여러 개의 사건이 발생함  \n",
    "이를 raw 데이터로 저장하는 작업 필요  \n",
    "\n",
    "| GeoHash | 대 | 중 | 소 |\n",
    "|---------|----|----|----|\n",
    "| 5       |New York|LongBeach|College Station|\n",
    "| 6       |New York|LongBeach|College Station|\n",
    "\n",
    "모든 도시와 geohash에 대해서 raw 데이터 생성 작업  \n",
    "\n"
   ]
  },
  {
   "cell_type": "markdown",
   "id": "97fca4c7",
   "metadata": {},
   "source": [
    "### Working Table\n",
    "진행사항을 정리하는 table\n",
    "\n",
    "| GeoHash |       대 | Done |      중 | Done |      소 | Done |\n",
    "|--------:|---------:|------|--------:|------|--------:|------|\n",
    "|       5 | New York |O| LongBeach |O| College Station |O|\n",
    "|       6 | New York |O| LongBeach |O| College Station |O|\n",
    "\n",
    "\n",
    "|            city | precision |                                                                                                                         files |\n",
    "|----------------:|-----------|------------------------------------------------------------------------------------------------------------------------------:|\n",
    "|       New York  | 5         |        http://202.31.200.194:8888/tree/NPLAB-NAS/Members/SEO/Emergency_Demand/Traffic_Accient/DataProcessing/New%20York_5_raw |\n",
    "|       New York  | 6         |        http://202.31.200.194:8888/tree/NPLAB-NAS/Members/SEO/Emergency_Demand/Traffic_Accient/DataProcessing/New%20York_6_raw |\n",
    "| Long Beach      | 5         |      http://202.31.200.194:8888/tree/NPLAB-NAS/Members/SEO/Emergency_Demand/Traffic_Accient/DataProcessing/Long%20Beach_5_raw |\n",
    "| Long Beach      | 6         |      http://202.31.200.194:8888/tree/NPLAB-NAS/Members/SEO/Emergency_Demand/Traffic_Accient/DataProcessing/Long%20Beach_6_raw |\n",
    "| College Station | 5         | http://202.31.200.194:8888/tree/NPLAB-NAS/Members/SEO/Emergency_Demand/Traffic_Accient/DataProcessing/College%20Station_5_raw |\n",
    "| College Station | 6         | http://202.31.200.194:8888/tree/NPLAB-NAS/Members/SEO/Emergency_Demand/Traffic_Accient/DataProcessing/College%20Station_6_raw |"
   ]
  },
  {
   "cell_type": "markdown",
   "id": "7f3a9cf9",
   "metadata": {},
   "source": [
    "### Mereg\n",
    "\n",
    "각 raw들을 merge해서 csv로 저장\n",
    "> http://202.31.200.70:8888/tree/NPLAB-NAS/Members/SEO/Emergency_Demand/Traffic_Accient/DataProcessing/city_CSV#notebooks"
   ]
  },
  {
   "cell_type": "code",
   "execution_count": null,
   "id": "32fffaa4",
   "metadata": {},
   "outputs": [],
   "source": []
  }
 ],
 "metadata": {
  "kernelspec": {
   "display_name": "Python 3",
   "language": "python",
   "name": "python3"
  },
  "language_info": {
   "codemirror_mode": {
    "name": "ipython",
    "version": 3
   },
   "file_extension": ".py",
   "mimetype": "text/x-python",
   "name": "python",
   "nbconvert_exporter": "python",
   "pygments_lexer": "ipython3",
   "version": "3.8.10"
  }
 },
 "nbformat": 4,
 "nbformat_minor": 5
}
