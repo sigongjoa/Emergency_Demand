{
 "cells": [
  {
   "cell_type": "markdown",
   "id": "12fa0c03",
   "metadata": {},
   "source": [
    "# 2023_06_27\n",
    "\n",
    "### Fix transform\n",
    "\n",
    "각 transform 별로 상황별 테스트를 했을 때는 Possion transform을 했을 때가 가장 상태가 좋아서 Possion transform을 적용해서 결과 확인  \n",
    "\n",
    "### sparsity-metric\n",
    "\n",
    "현재는 sparsity와 f2 score 관의 상관 관계를 확인했음  \n",
    "하지만 이 값만으로는 비교가 어려움 그래서 f2 sccore 및 recall precision도 같이 비교함  \n",
    "\n",
    "> notebook : http://202.31.200.194:8888/notebooks/NPLAB-NAS/Members/SEO/Emergency_Demand/Traffic_Accient/TFT/Result_Sparsity.ipynb\n",
    "\n",
    "\n",
    "### batch_size test\n",
    "\n",
    "lr , 및 hidden_size를 다르게 학습을 해봐도 train_loss 및 val_loss가 떨어지지 않음  \n",
    "batch_size가 train data보다 너무 커서 학습이 힘든 것 같아서 코드로 확인 해봄  \n",
    "\n",
    "> http://202.31.200.194:8888/notebooks/NPLAB-NAS/Members/SEO/Emergency_Demand/Traffic_Accient/TFT/Possion%20TEST.ipynb\n",
    "\n",
    "각 batch 마다 target.sum() / target 사이즈를 기준으로 시각화 함  \n",
    "단위 기준마다 target.sum()이 크다면 학습을 할 부분이 많다고 생각을 할 수 있음  \n",
    "(큰 수의 법칙이 적용되는 느낌임)  \n",
    "이를 batch_size마다 100번정도 확인을 해봄  "
   ]
  },
  {
   "cell_type": "code",
   "execution_count": null,
   "id": "2972f86c",
   "metadata": {},
   "outputs": [],
   "source": []
  }
 ],
 "metadata": {
  "kernelspec": {
   "display_name": "Python 3",
   "language": "python",
   "name": "python3"
  },
  "language_info": {
   "codemirror_mode": {
    "name": "ipython",
    "version": 3
   },
   "file_extension": ".py",
   "mimetype": "text/x-python",
   "name": "python",
   "nbconvert_exporter": "python",
   "pygments_lexer": "ipython3",
   "version": "3.8.10"
  }
 },
 "nbformat": 4,
 "nbformat_minor": 5
}
