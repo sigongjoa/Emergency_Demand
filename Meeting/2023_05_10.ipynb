{
 "cells": [
  {
   "cell_type": "markdown",
   "id": "f4723239",
   "metadata": {},
   "source": [
    "# 2023_05_10\n",
    "\n",
    "### data generate\n",
    "![](../Meeting_Img/2023_05_08.jpg)\n",
    "\n",
    "다음과 같이 데이터를 구성함  \n",
    "발생시간 , geohash를 index로 accient(acceient + broken vehicle) 나머지 weather type , traffic type을 Y/N로 데이터 처리 \n",
    "\n",
    "### training & inference\n",
    "\n",
    "학습 및 결과 확인용 노트북  \n",
    "\n",
    "> Long Beach 5 : training & inferce : http://202.31.200.194:8888/notebooks/NPLAB-NAS/Members/SEO/Emergency_Demand/Traffic_Accient/TFT/BaseModel_Long%20Beach_5.ipynb\n",
    "\n",
    "> New York 5 : training & inferce : http://202.31.200.194:8888/notebooks/NPLAB-NAS/Members/SEO/Emergency_Demand/Traffic_Accient/TFT/BaseModel_New%20York_5.ipynb\n",
    "\n",
    "\n",
    "### loss \n",
    "\n",
    "학습이 잘 이루어졌는지 확인하기 위해서 tensorboard를 이용해서 확인\n",
    "\n",
    "> tensorboard : http://202.31.200.70:8888/notebooks/NPLAB-NAS/Members/SEO/Emergency_Demand/Traffic_Accient/TFT/tensorboard.ipynb\n",
    "\n",
    "\n",
    "\n",
    "### data & training Scheduling\n",
    "\n",
    "|            city | precision | data generate | training | Time per Epoxy |\n",
    "|----------------:|-----------|--------------:|----------|----------------|\n",
    "|       New York  | 5         |             O |          | 13m / batch 64 |\n",
    "|       New York  | 6         |             O |          |                |\n",
    "| Long Beach      | 5         |             O | O        | 30m / batch 64 |\n",
    "| Long Beach      | 6         |             O |          |                |\n",
    "| College Station | 5         |               |          |                |\n",
    "| College Station | 6         |               |          |                |\n",
    "\n",
    "\n",
    "College Station에서는 Accient가 일어나지 않음  \n",
    "\n",
    "![](../Meeting_Img/2023_05_10.png)\n",
    "\n",
    "Accient는 어떤 종류의 사건을 기록하는 것인지 이해가 필요함  \n",
    "4년동안 Accient가 없다는게 말이 안됨   \n",
    "\n",
    "### data review\n",
    "\n",
    "생서된 데이터 확인\n",
    "\n",
    "> http://202.31.200.194:8888/notebooks/NPLAB-NAS/Members/SEO/Emergency_Demand/Traffic_Accient/DataProcessing/Static_reveiw.ipynb"
   ]
  },
  {
   "cell_type": "code",
   "execution_count": null,
   "id": "866ca0da",
   "metadata": {},
   "outputs": [],
   "source": []
  }
 ],
 "metadata": {
  "kernelspec": {
   "display_name": "Python 3",
   "language": "python",
   "name": "python3"
  },
  "language_info": {
   "codemirror_mode": {
    "name": "ipython",
    "version": 3
   },
   "file_extension": ".py",
   "mimetype": "text/x-python",
   "name": "python",
   "nbconvert_exporter": "python",
   "pygments_lexer": "ipython3",
   "version": "3.8.10"
  }
 },
 "nbformat": 4,
 "nbformat_minor": 5
}
