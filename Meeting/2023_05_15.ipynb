{
 "cells": [
  {
   "cell_type": "markdown",
   "id": "9a348f60",
   "metadata": {},
   "source": [
    "# 2023_05_15\n",
    "\n",
    "### 데이터 수정 사항\n",
    "\n",
    "weather data의 `Severe` 부분을 4로 수정   \n",
    "weather data는 nan값으로 interpolation으로 변경    \n",
    "\n",
    "\n",
    "### 데이터 리뷰\n",
    "\n",
    "sparse한 데이터를 가정한다고 이거 이거는 너무 sparse해서 학습이 제대로 안됨    \n",
    "데이터를 잘못 생성했을 가능성이 높음   \n",
    "데이터 리뷰를 통해서 데이터에 이상이 없는지 확인 할 필요가 있음  \n",
    "\n",
    "1. 데이터 생성과정에서 문제가 없는지 확인\n",
    "\n",
    "2. 각 geohash별로 사건의 발생을 확인하고 사건 발생이 제일 적은 geohash와 사건이 가장 많이 발생한 geohash를 찾음  \n",
    "\n",
    "3. 각 geohash별로 time slider를 이용해서 시각화  \n",
    "\n",
    "아래 노트북에 수정사항 및 오류 사항 정리 \n",
    "\n",
    "> 데이터 검증 노트북 : http://202.31.200.194:8888/notebooks/NPLAB-NAS/Members/SEO/Emergency_Demand/Traffic_Accient/DataProcessing/DataReview_validation.ipynb\n",
    "\n",
    "* 각 노트북 실행 결과\n",
    "\n",
    "> Long Beach 5 : http://202.31.200.194:8888/view/NPLAB-NAS/Members/SEO/Emergency_Demand/Traffic_Accient/DataProcessing/DataVaildation_HTML/DataReview_validation_Long%20Beach_5.html"
   ]
  },
  {
   "cell_type": "code",
   "execution_count": 10,
   "id": "4838439b",
   "metadata": {},
   "outputs": [
    {
     "data": {
      "text/html": [
       "\n",
       "        <iframe\n",
       "            width=\"800\"\n",
       "            height=\"400\"\n",
       "            src=\"../Traffic_Accient/DataProcessing/DataReview_HTML/Long Beach_5_Accient.html\"\n",
       "            frameborder=\"0\"\n",
       "            allowfullscreen\n",
       "        ></iframe>\n",
       "        "
      ],
      "text/plain": [
       "<IPython.lib.display.IFrame at 0x7fe2d030b850>"
      ]
     },
     "execution_count": 10,
     "metadata": {},
     "output_type": "execute_result"
    }
   ],
   "source": [
    "from IPython.display import IFrame\n",
    "\n",
    "IFrame('../Traffic_Accient/DataProcessing/DataReview_HTML/Long Beach_5_Accient.html', width=800, height=400)"
   ]
  }
 ],
 "metadata": {
  "kernelspec": {
   "display_name": "Python 3 (ipykernel)",
   "language": "python",
   "name": "python3"
  },
  "language_info": {
   "codemirror_mode": {
    "name": "ipython",
    "version": 3
   },
   "file_extension": ".py",
   "mimetype": "text/x-python",
   "name": "python",
   "nbconvert_exporter": "python",
   "pygments_lexer": "ipython3",
   "version": "3.8.10"
  }
 },
 "nbformat": 4,
 "nbformat_minor": 5
}
