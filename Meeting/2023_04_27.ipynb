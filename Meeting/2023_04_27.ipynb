{
 "cells": [
  {
   "cell_type": "markdown",
   "id": "40730b8c",
   "metadata": {},
   "source": [
    "# 2023_04_27 \n",
    "\n",
    "### 데이터 생성\n"
   ]
  },
  {
   "cell_type": "code",
   "execution_count": 1,
   "id": "646e4fce",
   "metadata": {
    "scrolled": true
   },
   "outputs": [
    {
     "data": {
      "text/html": [
       "\n",
       "        <iframe\n",
       "            width=\"1200\"\n",
       "            height=\"1200\"\n",
       "            src=\"../Meeting_Img/GenerateData_Traffic.html\"\n",
       "            frameborder=\"0\"\n",
       "            allowfullscreen\n",
       "        ></iframe>\n",
       "        "
      ],
      "text/plain": [
       "<IPython.lib.display.IFrame at 0x7f1809ae82e0>"
      ]
     },
     "execution_count": 1,
     "metadata": {},
     "output_type": "execute_result"
    }
   ],
   "source": [
    "from IPython.display import IFrame\n",
    "\n",
    "IFrame('../Meeting_Img/GenerateData_Traffic.html',width = 1200 , height=1200)"
   ]
  },
  {
   "cell_type": "markdown",
   "id": "c8c7ba18",
   "metadata": {},
   "source": [
    "```python\n",
    "for e_id in tqdm(city_df['EventId'], desc=f'{city} Traffic'):\n",
    "    save_file =  f'{save_dir}/{city}_{e_id}.csv'\n",
    "`    if os.path.isfile(save_file):\n",
    "        continue\n",
    "\n",
    "    event_df = city_df[city_df['EventId'] == e_id][insert_columns]\n",
    "    event_df.reset_index(inplace=True, drop=True)\n",
    "    dt = pd.date_range(event_df['OccTime'].iloc[0], event_df['EndTime'].iloc[0], freq='1h')\n",
    "\n",
    "    for dt_idx, d in enumerate(dt):\n",
    "        event_df.loc[dt_idx] = event_df.loc[0]\n",
    "        event_df.loc[dt_idx, 'OccTime'] = d\n",
    "        event_df.to_csv(save_file, index=False)\n",
    "    del event_df\n",
    "    event_df = pd.DataFrame()\n",
    "\n",
    "final_df = pd.concat([pd.read_csv(os.path.join(save_dir, f)) for f in os.listdir(save_dir) if f.endswith('.csv')])\n",
    "```"
   ]
  },
  {
   "cell_type": "markdown",
   "id": "2140cbc0",
   "metadata": {},
   "source": [
    "raw 데이터에서  city를 선택한 이후 city안에 있는 eventid를 기준으로 새로운 dataframe을 생성하고 이를 저장함  \n",
    "메모리에 다 올리기에는 자꾸 커널이 죽어서 다 저장하고 한번에 읽어오는 식으로 생성함  \n",
    "\n",
    "> Traffic data generate notebook : http://202.31.200.194:8888/notebooks/NPLAB-NAS/Members/SEO/Emergency_Demand/Traffic_Accient/DataProcessing/GenerateData_Traffic.ipynb"
   ]
  },
  {
   "cell_type": "code",
   "execution_count": 2,
   "id": "89030185",
   "metadata": {
    "scrolled": true
   },
   "outputs": [
    {
     "data": {
      "text/html": [
       "\n",
       "        <iframe\n",
       "            width=\"1200\"\n",
       "            height=\"1200\"\n",
       "            src=\"../Meeting_Img/GenerateData_Weather.html\"\n",
       "            frameborder=\"0\"\n",
       "            allowfullscreen\n",
       "        ></iframe>\n",
       "        "
      ],
      "text/plain": [
       "<IPython.lib.display.IFrame at 0x7f1809af3dc0>"
      ]
     },
     "execution_count": 2,
     "metadata": {},
     "output_type": "execute_result"
    }
   ],
   "source": [
    "from IPython.display import IFrame\n",
    "\n",
    "IFrame('../Meeting_Img/GenerateData_Weather.html',width = 1200 , height=1200)"
   ]
  },
  {
   "cell_type": "markdown",
   "id": "c256d190",
   "metadata": {},
   "source": [
    "weather data도 같은 방식으로 생성함  \n",
    "\n",
    "> Weather data generate notebook : http://202.31.200.194:8888/notebooks/NPLAB-NAS/Members/SEO/Emergency_Demand/Traffic_Accient/DataProcessing/GenerateData_Weather.ipynb#"
   ]
  },
  {
   "cell_type": "code",
   "execution_count": 3,
   "id": "61b58bbb",
   "metadata": {
    "scrolled": true
   },
   "outputs": [
    {
     "data": {
      "text/html": [
       "\n",
       "        <iframe\n",
       "            width=\"1200\"\n",
       "            height=\"1200\"\n",
       "            src=\"../Meeting_Img/2023_04_27_GenerateData_Merge_Mean.html\"\n",
       "            frameborder=\"0\"\n",
       "            allowfullscreen\n",
       "        ></iframe>\n",
       "        "
      ],
      "text/plain": [
       "<IPython.lib.display.IFrame at 0x7f1809b044c0>"
      ]
     },
     "execution_count": 3,
     "metadata": {},
     "output_type": "execute_result"
    }
   ],
   "source": [
    "from IPython.display import IFrame\n",
    "\n",
    "IFrame('../Meeting_Img/2023_04_27_GenerateData_Merge_Mean.html',width = 1200 , height=1200)"
   ]
  },
  {
   "cell_type": "markdown",
   "id": "4e3c00fb",
   "metadata": {},
   "source": [
    "> Merge Notebook : http://202.31.200.194:8888/notebooks/NPLAB-NAS/Members/SEO/Emergency_Demand/Traffic_Accient/DataProcessing/GenerateData_Merge_Mean.ipynb"
   ]
  },
  {
   "cell_type": "markdown",
   "id": "63aaad48",
   "metadata": {},
   "source": [
    "전처리된 Traffic , Weather 데이터는 각 multi_index(geohash, 발생시간)에 따라서 여러개의 사건이 일어남  \n",
    "이 부분은 추후에 결정  "
   ]
  },
  {
   "cell_type": "markdown",
   "id": "e40ee7ce",
   "metadata": {},
   "source": [
    "<table border=\"1\" class=\"dataframe\">  <thead>    <tr style=\"text-align: right;\">      <th></th>      <th>OccTime</th>      <th>TrafficGeoHash</th>      <th>TrafficEndTime</th>      <th>TrafficType</th>      <th>TrafficSeverity</th>      <th>TrafficEventId</th>      <th>TrafficDistance(mi)</th>      <th>TrafficDescription</th>      <th>ap_GeoHash</th>      <th>WeatherEndTime</th>      <th>WeatherType</th>      <th>WeatherSeverity</th>      <th>WeatherEventId</th>      <th>lat</th>      <th>lng</th>      <th>TrafficType__Accident</th>      <th>TrafficType__Broken-Vehicle</th>      <th>TrafficType__Congestion</th>      <th>TrafficType__Construction</th>      <th>TrafficType__Event</th>      <th>TrafficType__Flow-Incident</th>      <th>TrafficType__Lane-Blocked</th>    </tr>  </thead>  <tbody>    <tr>      <th>0</th>      <td>2017-01-19 04:00:00</td>      <td>9q5br5</td>      <td>2017-01-19 04:00:00</td>      <td>Flow-Incident</td>      <td>2.0</td>      <td>T-470260</td>      <td>6.38</td>      <td>Delays of two minutes on San Diego Fwy Northbound in Long Beach.</td>      <td>9q5br7</td>      <td>2017-01-19 04:00:00</td>      <td>Rain</td>      <td>Light</td>      <td>W-5495115</td>      <td>33.813171</td>      <td>-118.152466</td>      <td>0</td>      <td>0</td>      <td>0</td>      <td>0</td>      <td>0</td>      <td>1</td>      <td>0</td>    </tr>    <tr>      <th>1</th>      <td>2017-01-19 04:00:00</td>      <td>9q5br5</td>      <td>2017-01-19 05:00:00</td>      <td>Accident</td>      <td>3.0</td>      <td>T-470163</td>      <td>0.01</td>      <td>Accident on I-405 Northbound near Temple Ave.</td>      <td>9q5br7</td>      <td>2017-01-19 04:00:00</td>      <td>Rain</td>      <td>Light</td>      <td>W-5495115</td>      <td>33.813171</td>      <td>-118.152466</td>      <td>1</td>      <td>0</td>      <td>0</td>      <td>0</td>      <td>0</td>      <td>0</td>      <td>0</td>    </tr>    <tr>      <th>2</th>      <td>2017-01-19 04:00:00</td>      <td>9q5br5</td>      <td>2017-01-19 04:00:00</td>      <td>Congestion</td>      <td>2.0</td>      <td>T-470259</td>      <td>1.26</td>      <td>Delays of three minutes on San Diego Fwy Southbound in Long Beach. Average speed 15 mph.</td>      <td>9q5br7</td>      <td>2017-01-19 04:00:00</td>      <td>Rain</td>      <td>Light</td>      <td>W-5495115</td>      <td>33.813171</td>      <td>-118.152466</td>      <td>0</td>      <td>0</td>      <td>1</td>      <td>0</td>      <td>0</td>      <td>0</td>      <td>0</td>    </tr>    <tr>      <th>3</th>      <td>2017-01-19 04:00:00</td>      <td>9q5br5</td>      <td>2017-01-19 04:00:00</td>      <td>Congestion</td>      <td>1.0</td>      <td>T-470085</td>      <td>2.87</td>      <td>Delays of two minutes on San Diego Fwy Northbound in Long Beach. Average speed 35 mph.</td>      <td>9q5br7</td>      <td>2017-01-19 04:00:00</td>      <td>Rain</td>      <td>Light</td>      <td>W-5495115</td>      <td>33.813171</td>      <td>-118.152466</td>      <td>0</td>      <td>0</td>      <td>1</td>      <td>0</td>      <td>0</td>      <td>0</td>      <td>0</td>    </tr>    <tr>      <th>4</th>      <td>2017-01-19 04:00:00</td>      <td>9q5br5</td>      <td>2017-01-19 05:00:00</td>      <td>Flow-Incident</td>      <td>3.0</td>      <td>T-470765</td>      <td>8.91</td>      <td>Severe delays of 52 minutes on San Diego Fwy Southbound in Long Beach.</td>      <td>9q5br7</td>      <td>2017-01-19 04:00:00</td>      <td>Rain</td>      <td>Light</td>      <td>W-5495115</td>      <td>33.813171</td>      <td>-118.152466</td>      <td>0</td>      <td>0</td>      <td>0</td>      <td>0</td>      <td>0</td>      <td>1</td>      <td>0</td>    </tr>    <tr>      <th>5</th>      <td>2017-01-19 04:00:00</td>      <td>9q5br5</td>      <td>2017-01-19 05:00:00</td>      <td>Accident</td>      <td>3.0</td>      <td>T-470371</td>      <td>0.01</td>      <td>Right hand shoulder blocked due to accident on I-405 Southbound near Cherry Ave.</td>      <td>9q5br7</td>      <td>2017-01-19 04:00:00</td>      <td>Rain</td>      <td>Light</td>      <td>W-5495115</td>      <td>33.813171</td>      <td>-118.152466</td>      <td>1</td>      <td>0</td>      <td>0</td>      <td>0</td>      <td>0</td>      <td>0</td>      <td>0</td>    </tr>  </tbody></table>"
   ]
  },
  {
   "cell_type": "markdown",
   "id": "e3a16bbe",
   "metadata": {},
   "source": [
    "선택된 도시(대, 중 , 소) 도시들에 대해서 위와 같은 각 mulit_index를 제작  "
   ]
  },
  {
   "cell_type": "code",
   "execution_count": null,
   "id": "ce24412a",
   "metadata": {},
   "outputs": [],
   "source": []
  }
 ],
 "metadata": {
  "kernelspec": {
   "display_name": "Python 3",
   "language": "python",
   "name": "python3"
  },
  "language_info": {
   "codemirror_mode": {
    "name": "ipython",
    "version": 3
   },
   "file_extension": ".py",
   "mimetype": "text/x-python",
   "name": "python",
   "nbconvert_exporter": "python",
   "pygments_lexer": "ipython3",
   "version": "3.8.10"
  }
 },
 "nbformat": 4,
 "nbformat_minor": 5
}
