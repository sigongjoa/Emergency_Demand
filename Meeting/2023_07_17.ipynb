{
 "cells": [
  {
   "cell_type": "markdown",
   "id": "90bebccf",
   "metadata": {},
   "source": [
    "# 2023_7_17\n",
    "\n",
    "* 하루 예측한 값과 한달 예측한 값이 심각하게 차이남  \n",
    "이를 수정\n",
    "\n",
    "* 에폭이 끝날 때마다 예측 결과를 저장하도록 코드를 수정  "
   ]
  },
  {
   "cell_type": "code",
   "execution_count": null,
   "id": "f6778b9c",
   "metadata": {},
   "outputs": [],
   "source": []
  }
 ],
 "metadata": {
  "kernelspec": {
   "display_name": "Python 3",
   "language": "python",
   "name": "python3"
  },
  "language_info": {
   "codemirror_mode": {
    "name": "ipython",
    "version": 3
   },
   "file_extension": ".py",
   "mimetype": "text/x-python",
   "name": "python",
   "nbconvert_exporter": "python",
   "pygments_lexer": "ipython3",
   "version": "3.8.10"
  }
 },
 "nbformat": 4,
 "nbformat_minor": 5
}
