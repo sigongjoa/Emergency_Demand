{
 "cells": [
  {
   "cell_type": "markdown",
   "id": "3c76ca96",
   "metadata": {},
   "source": [
    "# 2023_06_29\n",
    "\n",
    "### inv transfrom check\n",
    "현재 hparams 다 튜닝을 해봐도 val_loss가 떨어지지 않음  \n",
    "transform_dict에서 inv_transfom 부분을 항등 함수로 만들면 val_loss가 떨어짐  \n",
    "하지만 이게 transform이 제대로 동작하지 않은 상태에서 loss가 떨어질 수도 있음  \n",
    "이를 확인후에 다시 학습을 돌리는것이 필요  \n",
    "\n",
    "\n",
    "### mix loss\n",
    "현재 데이터의 분포가 0이 많고 이로 인해서 TN이 많이 발생하는 상황임  \n",
    "실제로 모델이 잘 예측한다고 보기는 힘듦  \n",
    "기존에 사용하는 Quantile loss 밀 f1 loss를 더해서 모델의 loss로 사용한 후에 결과 비교 예정\n",
    "loss를 제대로 만들었지는 확인하기 위해서 \n",
    "\n",
    "### del sparsity\n",
    "\n",
    "위와 같은 상황에서 sparsity가 0 인 geohash가 존재한다면   \n",
    "모델의 입장에서는 내가 0만 예측하면 정확도가 높아지네 그러면 0만 예측해야지 이런 상황이 발생 할 수 있음   \n",
    "이러한 geohash들을 제거한 이후에 학습을 했을 때 학습이 어느정도 되는지 확인 할 필요가 있음  "
   ]
  },
  {
   "cell_type": "markdown",
   "id": "e0d10546",
   "metadata": {},
   "source": [
    "# inv transfrom check\n",
    "\n",
    "우선은 비교를 위해서 transformation을 적용하지 않은 상태에서 학습 결과 확인  \n",
    "이후에 transfrom 적용했을 때 dataset 어떻게 변하는지 확인  \n",
    "이후에 결과값 비교  \n",
    "\n",
    "\n",
    "### transfrom check\n",
    "trasnform을 시각화 했으나 실제로 dataloader에서 어떻게 바뀌는지에 대한 확인이 필요함  \n",
    "확인 이후에 transform 적용후 학습 진행  \n",
    "\n",
    "> http://202.31.200.194:8888/notebooks/NPLAB-NAS/Members/SEO/Emergency_Demand/Traffic_Accient/TFT/Spatial%20_Sparsity/logs.ipynb#Possion-transfrom\n",
    "\n",
    "적용을 했을 때 DataLoader의 target값이 변하지 않음  \n",
    "\n",
    "transfomation적용 X , transformation 적용 및 , target 값 자체를 바꾼 상태로 다시 확인이 필요함  \n"
   ]
  },
  {
   "cell_type": "markdown",
   "id": "2cbf0f4f",
   "metadata": {},
   "source": [
    "# del sparsity\n",
    "\n",
    "전체 기간중에서 사건이 100건 이하로 발생한 geohash는 제거하고 학습을 진행함  \n",
    "\n",
    "> notebook : http://202.31.200.194:8888/notebooks/NPLAB-NAS/Members/SEO/Emergency_Demand/Traffic_Accient/TFT/Spatial%20_Sparsity/logs.ipynb#tensorboard"
   ]
  },
  {
   "cell_type": "markdown",
   "id": "d579706d",
   "metadata": {},
   "source": [
    "# concate loss\n",
    "\n",
    "f1 loss와 quantile loss를 합쳐서 loss로 사용예정  \n",
    "실제 데이터인 3차원데이터에서 잘 동작하도록 변경  \n",
    "\n",
    "> http://202.31.200.194:8888/notebooks/NPLAB-NAS/Members/SEO/Emergency_Demand/Traffic_Accient/TFT/Spatial%20_Sparsity/concate_loss.ipynb"
   ]
  },
  {
   "cell_type": "code",
   "execution_count": null,
   "id": "8e3f327b",
   "metadata": {},
   "outputs": [],
   "source": []
  }
 ],
 "metadata": {
  "kernelspec": {
   "display_name": "Python 3",
   "language": "python",
   "name": "python3"
  },
  "language_info": {
   "codemirror_mode": {
    "name": "ipython",
    "version": 3
   },
   "file_extension": ".py",
   "mimetype": "text/x-python",
   "name": "python",
   "nbconvert_exporter": "python",
   "pygments_lexer": "ipython3",
   "version": "3.8.10"
  }
 },
 "nbformat": 4,
 "nbformat_minor": 5
}
