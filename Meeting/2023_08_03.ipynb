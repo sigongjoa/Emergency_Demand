{
 "cells": [
  {
   "cell_type": "markdown",
   "id": "9140e512",
   "metadata": {},
   "source": [
    "# 2023_08_03\n",
    "\n",
    "\n",
    "### set base model\n",
    "\n",
    "데이터가 너무 sparsity하기 때문에 기본으로 conv를 적용 후 튜닝 진행  \n",
    "\n",
    "> training python code : http://202.31.200.194:8888/edit/NPLAB-NAS/Members/SEO/Emergency_Demand/Traffic_Accient/TFT/Long%20Beach_5/BaseModel.py\n",
    "\n",
    "> tensorboard : http://202.31.200.70:8888/notebooks/NPLAB-NAS/Members/SEO/Emergency_Demand/Traffic_Accient/TFT/Long%20Beach_5/tensorboard_Long%20Beach_5.ipynb\n",
    "\n",
    "> result : http://202.31.200.194:8888/tree/NPLAB-NAS/Members/SEO/Emergency_Demand/Traffic_Accient/TFT/Long%20Beach_5/ControlGroup_result\n",
    "\n",
    "> live test : http://202.31.200.194:8888/tree/NPLAB-NAS/Members/SEO/Emergency_Demand/Traffic_Accient/TFT/Long%20Beach_5/gif_result/ControlGroup\n",
    "\n",
    "어느 정도 예측을 하는 걸로 보임  "
   ]
  },
  {
   "cell_type": "markdown",
   "id": "6c2e2378",
   "metadata": {},
   "source": [
    "### hidden_size tuning\n",
    "\n",
    "hidden size = 56 일때 성능이 가장 괜찮음  \n",
    "\n",
    "> result : http://202.31.200.194:8888/tree/NPLAB-NAS/Members/SEO/Emergency_Demand/Traffic_Accient/TFT/Long%20Beach_5/HiddenGroup_result/live_test"
   ]
  },
  {
   "cell_type": "code",
   "execution_count": null,
   "id": "3d754b0e",
   "metadata": {},
   "outputs": [],
   "source": []
  }
 ],
 "metadata": {
  "kernelspec": {
   "display_name": "Python 3",
   "language": "python",
   "name": "python3"
  },
  "language_info": {
   "codemirror_mode": {
    "name": "ipython",
    "version": 3
   },
   "file_extension": ".py",
   "mimetype": "text/x-python",
   "name": "python",
   "nbconvert_exporter": "python",
   "pygments_lexer": "ipython3",
   "version": "3.8.10"
  }
 },
 "nbformat": 4,
 "nbformat_minor": 5
}
