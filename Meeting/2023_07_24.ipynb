{
 "cells": [
  {
   "cell_type": "markdown",
   "id": "e49b8f61",
   "metadata": {},
   "source": [
    "# 2023_07_24\n",
    "\n",
    "### Traffic Accident\n",
    "\n",
    "각 geohash별로 사건이 1건 이상 발생한 geohash에 대해서만 학습을 진행  \n",
    "사건이 일어나지 않는 의미가 별로 없는 geohash에 대해서 학습은 무의함  \n",
    "\n",
    "### concateloss training\n",
    "\n",
    "Long Beach 6의 데이터를 학습하는데 시간상 5 epoch정도만 학습을 함  \n",
    "20 epoch으로 Long Beach 6 그리고 기존에 많은 qunantile loss와 f1 loss를 합친 loss로 학습을 진행  "
   ]
  },
  {
   "cell_type": "markdown",
   "id": "08e7ca70",
   "metadata": {},
   "source": [
    "### Traffic Accident incident\n",
    "\n",
    "246 -> 100 개정도로 geohash가 감소  \n",
    "\n",
    "> data generate : http://202.31.200.194:8888/notebooks/NPLAB-NAS/Members/SEO/Emergency_Demand/Traffic_Accient/DataProcessing/Generate_Month_val_incident.ipynb\n",
    "\n",
    "> data static : http://202.31.200.194:8888/tree/NPLAB-NAS/Members/SEO/Emergency_Demand/Traffic_Accient/DataProcessing/DataReview_HTML/Long%20Beach_6_incident#notebooks\\\n",
    "\n",
    "> training : http://202.31.200.194:8888/edit/NPLAB-NAS/Members/SEO/Emergency_Demand/Traffic_Accient/TFT/Long%20Beach_6_incident/BaseModel.py\n",
    "\n",
    "기존과 동일하게 1e-1 부터 1e-7 까지 학습 진행(gpu 0)  \n",
    "Long Beach 5에서 성능이 좋은 1e-4와 , 이전의 Long Beach 6에서 학습한 1e-7 , epoch 20과 epoch 40을 진행(gpu 1)  \n",
    "\n",
    "> Config Training : http://202.31.200.194:8888/edit/NPLAB-NAS/Members/SEO/Emergency_Demand/Traffic_Accient/TFT/Long%20Beach_6_incident/Config_Training.py\n",
    "\n",
    "> Config sh : http://202.31.200.194:8888/edit/NPLAB-NAS/Members/SEO/Emergency_Demand/Traffic_Accient/TFT/Long%20Beach_6_incident/config_setting_run.sh\n",
    "\n",
    "원하는 파라미터를 입력해서 원하는 setting에서만 실행  \n",
    "Config Training 파일을 .sh 파일을 이용해서 여러개를 실행  "
   ]
  },
  {
   "cell_type": "code",
   "execution_count": null,
   "id": "89d36d77",
   "metadata": {},
   "outputs": [],
   "source": []
  }
 ],
 "metadata": {
  "kernelspec": {
   "display_name": "Python 3",
   "language": "python",
   "name": "python3"
  },
  "language_info": {
   "codemirror_mode": {
    "name": "ipython",
    "version": 3
   },
   "file_extension": ".py",
   "mimetype": "text/x-python",
   "name": "python",
   "nbconvert_exporter": "python",
   "pygments_lexer": "ipython3",
   "version": "3.8.10"
  }
 },
 "nbformat": 4,
 "nbformat_minor": 5
}
