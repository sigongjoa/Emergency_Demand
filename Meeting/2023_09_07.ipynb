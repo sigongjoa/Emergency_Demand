{
 "cells": [
  {
   "cell_type": "markdown",
   "id": "f3b42b63",
   "metadata": {},
   "source": [
    "# 2023_09_07"
   ]
  },
  {
   "cell_type": "markdown",
   "id": "c9f9595b",
   "metadata": {},
   "source": [
    "### interim report\n",
    "\n",
    "저번에 셋팅을 이상하게 해서 data leakage가 난 경험이 있음  \n",
    "이번에 셋팅을 정리하면서 이상이 없는지 확인할 예정  \n",
    "\n",
    "sparsity method  \n",
    "\n",
    "* 기본 데이터 학습  \n",
    "* convoluation  \n",
    "* convoluation + add noise  \n",
    "* space aggregate  \n",
    "* space aggregate + add noise  \n",
    "을 다시 학습을 시키고 기존의 metirc(f1_score, precison, recall, confusion matrix)의 결과를 확인  \n",
    "\n",
    "코드 및 학습 변수, 시각화 부분에서 이상이 없는 지 확인  "
   ]
  },
  {
   "cell_type": "code",
   "execution_count": null,
   "id": "ea307316",
   "metadata": {},
   "outputs": [],
   "source": []
  }
 ],
 "metadata": {
  "kernelspec": {
   "display_name": "Python 3",
   "language": "python",
   "name": "python3"
  },
  "language_info": {
   "codemirror_mode": {
    "name": "ipython",
    "version": 3
   },
   "file_extension": ".py",
   "mimetype": "text/x-python",
   "name": "python",
   "nbconvert_exporter": "python",
   "pygments_lexer": "ipython3",
   "version": "3.8.10"
  }
 },
 "nbformat": 4,
 "nbformat_minor": 5
}
