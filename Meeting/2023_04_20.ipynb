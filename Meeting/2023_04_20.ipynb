{
 "cells": [
  {
   "cell_type": "markdown",
   "id": "d311cdf9",
   "metadata": {},
   "source": [
    "# 2023_04_20\n",
    "\n",
    "\n",
    "![](../Meeting_Img/2023_04_18.jpg)\n",
    "\n",
    "\n",
    "인구 밀도 + 공항수를 기준으로 데이터를 생성  \n",
    "\n",
    "| GeoHash | 대 | 중 | 소 |\n",
    "|---------|----|----|----|\n",
    "| 5       |    |    |    |\n",
    "| 6       |    |    |    |\n",
    "\n",
    "각 geohash마다 대도시 , 중도시 , 소도시를 선택  \n",
    "\n",
    "> 공항 데이터 : https://en.wikipedia.org/wiki/List_of_airports_in_the_United_States\n",
    "\n",
    "> 인구 데이터 : https://en.wikipedia.org/wiki/List_of_United_States_cities_by_population\n",
    "\n",
    "두 데이터를 엑셀을 이용해서 csv로 만듦  \n",
    "\n",
    "이후에 필요한 정보들만 normalize해서 합계를 해서 다음과 같은 figure를 생성  \n",
    "\n",
    "> figure_notebook : http://202.31.200.194:8888/notebooks/NPLAB-NAS/Members/SEO/Emergency_Demand/Traffic_Accient/select_city.ipynb\n",
    "\n",
    "> html : http://202.31.200.194:8888/view/NPLAB-NAS/Members/SEO/Emergency_Demand/Traffic_Accient/city_info.html\n",
    "\n",
    "\n",
    "![](../Meeting_Img/city_info.png)\n",
    "\n",
    "| GeoHash | 대 | 중 | 소 |\n",
    "|---------|----|----|----|\n",
    "| 5       |New York|Atlanta|Detroit|\n",
    "| 6       |New York|Atlanta|Detroit|\n",
    "\n",
    "* figure에서 음수인 부분은 예측이 어려울것으로 보여서 제외함  \n"
   ]
  },
  {
   "cell_type": "markdown",
   "id": "e55c74a0",
   "metadata": {},
   "source": [
    "## 각 도시별 geohash mapping\n",
    "\n",
    "데이터 : https://www.census.gov/geographies/mapping-files/time-series/geo/tiger-line-file.html\n",
    "\n",
    "미국 인구조사 데이터셋을 다운받아서 사용  \n",
    "![](../Meeting_Img/map_sample.png)\n",
    "\n",
    "\n",
    "위 그림과 같이 각 도시별 geohash precision에 따라서 지도로 시각화  \n",
    "`\n",
    "\n",
    "> Map Notebook : http://202.31.200.194:8888/notebooks/NPLAB-NAS/Members/SEO/Emergency_Demand/Traffic_Accient/city_map_visiualization.ipynb"
   ]
  },
  {
   "cell_type": "markdown",
   "id": "3f417b34",
   "metadata": {},
   "source": [
    "# 수정사항 \n",
    "\n",
    "미국에 중복되는 도시명이 있어서 이에 대해서 다른 방식으로 처리 해야 함  \n",
    "`Atlanta`는 대도시 적인 성격이 강함  \n",
    "다른 중도시를 다른 도시로 선택  \n",
    "`Detroit`도 다른 자동차 공업의 `Detroit`와 헷갈려서 다른 도시로 선택  \n",
    "\n",
    "\n",
    "지도를 표시할 때 공항정보(weather)도 같이 표시  \n",
    "> result_folder : http://202.31.200.194:8888/tree/NPLAB-NAS/Members/SEO/Emergency_Demand/Traffic_Accient/html"
   ]
  },
  {
   "cell_type": "code",
   "execution_count": null,
   "id": "1f13aa62",
   "metadata": {},
   "outputs": [],
   "source": []
  }
 ],
 "metadata": {
  "kernelspec": {
   "display_name": "Python 3",
   "language": "python",
   "name": "python3"
  },
  "language_info": {
   "codemirror_mode": {
    "name": "ipython",
    "version": 3
   },
   "file_extension": ".py",
   "mimetype": "text/x-python",
   "name": "python",
   "nbconvert_exporter": "python",
   "pygments_lexer": "ipython3",
   "version": "3.8.10"
  }
 },
 "nbformat": 4,
 "nbformat_minor": 5
}
