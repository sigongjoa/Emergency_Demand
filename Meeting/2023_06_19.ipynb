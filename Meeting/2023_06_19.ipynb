{
 "cells": [
  {
   "cell_type": "markdown",
   "id": "ad271a39",
   "metadata": {},
   "source": [
    "# 2023_06_19\n",
    "\n",
    "\n",
    "### retraining \n",
    "현재 transform과 lr별 학습 코드는 있으나 학습이 제대로 되지않음(코드 실수함)  \n",
    "\n",
    "이를 다시 학습을 해야하는 상황임  \n",
    "\n",
    "학습전에 몇 가지의 sample 경우에 대해서 transform 했을 때 어떻게 바뀌는 지  \n",
    "transfrom이 및 inv_transfrom이 제대로 동작되는지에 대해서\n",
    "확인 후에 학습을 진행  \n",
    "\n",
    "테스트의 비교를 위해서 transform을 적용하지 않은 상태에서 lr별 성능확인 추가  \n",
    "\n",
    "\n",
    "### sparity\n",
    "\n",
    "현재 학습이 제대로 되고 있는지 아닌지에 대한 판단으로\n",
    "각 geohash별 sparity와 연관성이 있는지 확인이 필요함  \n",
    "\n",
    "* sparity = 전체 기간중 0이 나타난 갯수 / 전체 기간  \n",
    "으로 정의 함\n",
    "\n",
    "sparity와 f2_score간의 상관관계 분석을 통해서 \n",
    "이러한 학습이 reasonable 한지에 대한 확인  \n",
    "\n",
    "spaity가 1 이라면 이는 사건이 발생하지 않는 다는 의미이고 이는 예측을 하기 어렵다는 뜻이다  \n",
    "반대로 spaity가 낮다면 이거는 사건이 발생이 많고 이에 대한 패턴을 더 알기 쉽다는 추론이 가능하다   \n"
   ]
  },
  {
   "cell_type": "markdown",
   "id": "530bc6b7",
   "metadata": {},
   "source": [
    "# retraining\n",
    "\n",
    "## transfrom check\n",
    "\n",
    "실제로 나타날수 있는 데이터 분포에 대해서 몇 가지 가정을 한 이후에 각 상황에 따라서 transform이 제대로 동작하는 지 확인\n",
    "\n",
    "다음과 같은 상황을 가정\n",
    "\n",
    "| case |\n",
    "|---:|\n",
    "| 사건이 충분히 떨어진 상태에서 발생 |\n",
    "| 사건이 근방에서 발생 |\n",
    "| 연속으로 2건 발생 |\n",
    "| 연속으로 3건 발생 |\n",
    "| 연속으로 4건 발생 |\n",
    "| 시간당 2건 이상의 사건 발생 |\n",
    "| 1건 또는 2건의 발생이 근처에서 발생 |\n",
    "\n",
    "\n",
    "> http://202.31.200.194:8888/notebooks/NPLAB-NAS/Members/SEO/Emergency_Demand/Traffic_Accient/TFT/BaseModel_Long%20Beach_5_Temporal%20Sparsity_Test_Pattern.ipynb\n",
    "\n",
    "\n",
    "## training \n",
    "\n",
    "현재 backend 서버에서 transform 적용 안한 상태와 각 transfrom 적용한(4개)의 학습 진행중  \n"
   ]
  },
  {
   "cell_type": "markdown",
   "id": "f32231e4",
   "metadata": {},
   "source": [
    "# Sparity\n",
    "\n",
    "> notebook : http://202.31.200.194:8888/notebooks/NPLAB-NAS/Members/SEO/Emergency_Demand/Traffic_Accient/TFT/Result_Sparsity.ipynb\n",
    "\n",
    "현재는 임의의 결과에 대해서 Sparity 및 f2_score의 상관관계를 확인함  \n",
    "학습이 끝난 이후에 성능이 제일 좋은 trail에 대해서 상관관계 확인이 필요함  \n",
    "sparity 정의 추가\n",
    "\n",
    "\n",
    "기간별 통계치 확인용 코드 작성 중  \n",
    "> http://202.31.200.194:8888/notebooks/NPLAB-NAS/Members/SEO/Emergency_Demand/Traffic_Accient/TFT/Confusion_matrix_bulid.ipynb"
   ]
  },
  {
   "cell_type": "markdown",
   "id": "5c83053b",
   "metadata": {},
   "source": [
    "\n",
    "\n",
    "> "
   ]
  },
  {
   "cell_type": "code",
   "execution_count": null,
   "id": "6c6f651a",
   "metadata": {},
   "outputs": [],
   "source": []
  }
 ],
 "metadata": {
  "kernelspec": {
   "display_name": "Python 3",
   "language": "python",
   "name": "python3"
  },
  "language_info": {
   "codemirror_mode": {
    "name": "ipython",
    "version": 3
   },
   "file_extension": ".py",
   "mimetype": "text/x-python",
   "name": "python",
   "nbconvert_exporter": "python",
   "pygments_lexer": "ipython3",
   "version": "3.8.10"
  }
 },
 "nbformat": 4,
 "nbformat_minor": 5
}
