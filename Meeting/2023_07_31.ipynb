{
 "cells": [
  {
   "cell_type": "markdown",
   "id": "f9c7b47f",
   "metadata": {},
   "source": [
    "# 2023_07_31\n",
    "\n",
    "\n",
    "### lr tuning\n",
    "\n",
    "1e-1 , .... , 1e-7 , convolution , concateloss , nei 추가해서 학습을 함  \n",
    "\n",
    "> training file : http://202.31.200.194:8888/edit/NPLAB-NAS/Members/SEO/Emergency_Demand/Traffic_Accient/TFT/Long%20Beach_5/BaseModel.py\n",
    "\n",
    "> tensorboard : http://202.31.200.70:8888/notebooks/NPLAB-NAS/Members/SEO/Emergency_Demand/Traffic_Accient/TFT/Long%20Beach_5/tensorboard_Long%20Beach_5.ipynb#lr-tuning\n",
    "\n",
    "> result : http://202.31.200.70:8888/tree/NPLAB-NAS/Members/SEO/Emergency_Demand/Traffic_Accient/TFT/Long%20Beach_5/ControlGroup_result\n",
    "\n",
    "### epoch tuning\n",
    "lr = 1e-4가 가장 좋은 parameter임을 확인  \n",
    "이후에 epoch에 대해서 tuning\n",
    "\n",
    "\n",
    "\n",
    "Long Beach 5 dataset 기준으로 \n",
    "* 5, 10 ,15, 20, 25 , 30으로 해서 성능 확인\n",
    "\n",
    "> tensorboard : http://202.31.200.70:8888/notebooks/NPLAB-NAS/Members/SEO/Emergency_Demand/Traffic_Accient/TFT/Long%20Beach_5/tensorboard_Long%20Beach_5.ipynb#Epoch-tuning\n",
    "\n",
    "> result : http://202.31.200.70:8888/tree/NPLAB-NAS/Members/SEO/Emergency_Demand/Traffic_Accient/TFT/Long%20Beach_5/EpochGroup_result\n",
    "\n",
    "\n",
    "lr와 Epoch을 바꿔가면서 학습을 해도 여전히 TP와 FP가 나오지 않고 있음  \n",
    "\n",
    "실제로 peak가 발생하기는 함  \n",
    "\n",
    "Attetion 값이 증가하고 실제 사건 발생을 할때는 감소를 하는건가?  \n",
    "\n",
    "epoch를 더 많이 줘서 학습을 해야하나?  "
   ]
  },
  {
   "cell_type": "code",
   "execution_count": 15,
   "id": "9f11ebd7",
   "metadata": {},
   "outputs": [
    {
     "data": {
      "text/html": [
       "\n",
       "        <iframe\n",
       "            width=\"1200\"\n",
       "            height=\"600\"\n",
       "            src=\"../Traffic_Accient/TFT/Long Beach_5/EpochGroup_result/live_test/30/geohash_9q5bm_3/date 22.html\"\n",
       "            frameborder=\"0\"\n",
       "            allowfullscreen\n",
       "        ></iframe>\n",
       "        "
      ],
      "text/plain": [
       "<IPython.lib.display.IFrame at 0x7fe55820a460>"
      ]
     },
     "execution_count": 15,
     "metadata": {},
     "output_type": "execute_result"
    }
   ],
   "source": [
    "from IPython.display import IFrame\n",
    "\n",
    "IFrame(src=\"../Traffic_Accient/TFT/Long Beach_5/EpochGroup_result/live_test/30/geohash_9q5bm_3/date 22.html\" , width = 1200 , height = 600)"
   ]
  },
  {
   "cell_type": "markdown",
   "id": "8103c571",
   "metadata": {},
   "source": [
    "### hidden tuning\n",
    "\n",
    "아직도 모델이 제대로 학습을 하고 있는 것 처럼 보이지는 않음  \n",
    "이러한 상태로 sparsity를 해결하기 보다는 다른 params를 변경해서 학습이 가능한 상태에서 \n",
    "다른 params를 셋팅을 확인 해본 이후에 sparsity를 해결  \n",
    "\n",
    "\n",
    "> tensorboard : http://202.31.200.70:8888/notebooks/NPLAB-NAS/Members/SEO/Emergency_Demand/Traffic_Accient/TFT/Long%20Beach_5/tensorboard_Long%20Beach_5.ipynb#Hidden-size-tuning\n",
    "\n",
    "현재 학습 중"
   ]
  },
  {
   "cell_type": "code",
   "execution_count": null,
   "id": "39595843",
   "metadata": {},
   "outputs": [],
   "source": []
  }
 ],
 "metadata": {
  "kernelspec": {
   "display_name": "Python 3",
   "language": "python",
   "name": "python3"
  },
  "language_info": {
   "codemirror_mode": {
    "name": "ipython",
    "version": 3
   },
   "file_extension": ".py",
   "mimetype": "text/x-python",
   "name": "python",
   "nbconvert_exporter": "python",
   "pygments_lexer": "ipython3",
   "version": "3.8.10"
  }
 },
 "nbformat": 4,
 "nbformat_minor": 5
}
