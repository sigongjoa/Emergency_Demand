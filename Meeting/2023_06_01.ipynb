{
 "cells": [
  {
   "cell_type": "markdown",
   "id": "6fa78b7c",
   "metadata": {},
   "source": [
    "# 2023_06_01\n",
    "\n",
    "##  Sparse 데이터 문제 해결 방안\n",
    "현재 학습 데이터셋이 생성되었지만, 데이터의 희소성(sparsity)로 인해 학습이 어렵게 되어있습니다.   \n",
    "이 문제를 해결하기 위해 두 가지 관점에서 접근하고자 합니다.  \n",
    "\n",
    "### Temporal Sparsity\n",
    "시간적인 희소성을 해결하기 위한 다양한 기법을 사용할 계획입니다.\n",
    "\n",
    "* 이동 평균(Moving Average): 일정 기간 동안의 평균을 계산하여 데이터의 잡음을 줄이고 장기적인 트렌드를 파악하는 기법입니다.\n",
    "* 지수 이동 평균(Exponential Moving Average, EMA)\n",
    "* 가중 이동 평균(Weighted Moving Average, WMA)\n",
    "* ewma\n",
    "\n",
    "이런 방식들을 PyTorch를 사용하여 학습 데이터의 group_encoder의 transform에 적용하고, 필요한 경우 역함수를 적용하여 원본 시그널을 재구성할 수 있도록 구현하였습니다.  \n",
    "각 target값이 어떻게 바뀌고 다시 복원되었는지 확인하는 코드를 추가  \n",
    "\n",
    "다음과 같이 코드를 구성하였습니다.\n",
    "``` python\n",
    "# moving average 함수 및 moving average 역함수  \n",
    "def moving_average_torch(x):\n",
    "    window_size = 5\n",
    "    x_torch = torch.tensor(x).unsqueeze(0).unsqueeze(0) # Add two new axes\n",
    "    weights = torch.ones(window_size, dtype=x_torch.dtype) / window_size\n",
    "    ma = torch.conv1d(x_torch, weights.unsqueeze(0).unsqueeze(1), padding=window_size // 2)\n",
    "    return ma.squeeze(1).squeeze(0)\n",
    "    '''\n",
    "    \"\"\"\n",
    "    Computes the moving average using PyTorch\n",
    "    \"\"\"\n",
    "    x_torch = torch.tensor(x).unsqueeze(0)\n",
    "    weights = torch.ones(window_size, dtype=x_torch.dtype) / window_size\n",
    "    ma = torch.conv1d(x_torch, weights.unsqueeze(0).unsqueeze(1), padding=window_size // 2)\n",
    "    return ma.squeeze(1).squeeze(0)\n",
    "    '''\n",
    "def reconstruct_orig(ma_values):\n",
    "    win_size = 5\n",
    "    \"\"\"\n",
    "    Reconstruct the original signal from moving average values\n",
    "    \"\"\"\n",
    "    re_values = 2 * ma_values - torch.roll(ma_values, win_size - 1)\n",
    "    return re_values\n",
    "\n",
    "transformation_dict = {\n",
    "    'forward': moving_average_torch,\n",
    "    'reverse': reconstruct_orig\n",
    "}\n",
    "\n",
    "\n",
    "def get_training(data , max_prediction_length = 100 , max_encoder_length = 500):\n",
    "    training_cutoff = data[\"time_idx\"].max() - max_prediction_length\n",
    "    training = TimeSeriesDataSet(\n",
    "        ...\n",
    "        target_normalizer=TorchNormalizer(\n",
    "            groups = ['group'],\n",
    "            method='identity',\n",
    "            transformation=transformation_dict,   # mv 적용 부분  \n",
    "            center = False,\n",
    "        ),\n",
    "        ...\n",
    "    )\n",
    "    return training\n",
    "```\n",
    "\n",
    "\n",
    "### Spatial Sparsity\n",
    "공간적인 희소성을 해결하기 위한 접근 방법으로는, geohash 기반의 공간적 가중치 부여 방식을 사용합니다. 사건이 발생한 위치를 중심으로 주변 지역에 가중치를 부여하여 새로운 데이터 칼럼을 생성합니다. 이를 통해 공간적인 정보를 고려하여 학습합니다.\n",
    "\n",
    "```\n",
    "0.5 | 0.7 | 0.5\n",
    "----------------\n",
    "0.7 | X   | 0.7\n",
    "----------------\n",
    "0.5 | 0.7 | 0.5\n",
    "```\n",
    "\n",
    "이런 방식을 사용하여 공간적 희소성 문제를 해결하고자 합니다. 이 방법을 적용하기 어려운 경우에는, 타겟 값에 직접 적용 후 학습을 진행합니다."
   ]
  },
  {
   "cell_type": "markdown",
   "id": "8740b74d",
   "metadata": {},
   "source": [
    "## Temporal Sparsity \n",
    "\n",
    "> TestNotebook : http://202.31.200.194:8888/notebooks/NPLAB-NAS/Members/SEO/Emergency_Demand/Traffic_Accient/TFT/BaseModel_Long%20Beach_5_Temporal%20Sparsity_Test.ipynb\n",
    "\n",
    "* MA 및 EMWA 적용 plot\n",
    "\n",
    "![](../Meeting_Img/2023_06_01_1.png)\n",
    "![](../Meeting_Img/2023_06_01_2.png)\n"
   ]
  },
  {
   "cell_type": "markdown",
   "id": "255e35c1",
   "metadata": {},
   "source": [
    "###  plot -> plolty\n",
    "tft의 plot_prediction을 plolty 버전으로 바꿈   \n",
    "\n",
    "> http://202.31.200.194:8888/notebooks/NPLAB-NAS/Members/SEO/Emergency_Demand/Traffic_Accient/TFT/BaseModel_Long%20Beach_5_Temporal%20Sparsity_visualization.ipynb\n",
    "\n",
    "![](../Meeting_Img/2023_05_25_1.png)\n",
    "![](../Meeting_Img/2023_05_25_2.png)\n"
   ]
  },
  {
   "cell_type": "markdown",
   "id": "bad617e0",
   "metadata": {},
   "source": [
    "# transfomation & inv transformation \n",
    "\n",
    "* MA\n",
    "* EMWA\n",
    "* Passion pdf\n",
    "* Noraml Dist pdf\n",
    "\n",
    "pdf 방식은 연속된 방식으로 데이티를 늘리는 방식으로 학습에 더 용이할 것으로 생각되어서 만들어봄  "
   ]
  },
  {
   "cell_type": "code",
   "execution_count": 16,
   "id": "4f94c390",
   "metadata": {
    "scrolled": true
   },
   "outputs": [
    {
     "data": {
      "text/html": [
       "\n",
       "        <iframe\n",
       "            width=\"1000\"\n",
       "            height=\"500\"\n",
       "            src=\"../Traffic_Accient/TFT/Transformation_Html/normal_MV.html\"\n",
       "            frameborder=\"0\"\n",
       "            allowfullscreen\n",
       "        ></iframe>\n",
       "        "
      ],
      "text/plain": [
       "<IPython.lib.display.IFrame at 0x7f55f41b1280>"
      ]
     },
     "metadata": {},
     "output_type": "display_data"
    },
    {
     "data": {
      "text/html": [
       "\n",
       "        <iframe\n",
       "            width=\"1000\"\n",
       "            height=\"500\"\n",
       "            src=\"../Traffic_Accient/TFT/Transformation_Html/many_continue_MV.html\"\n",
       "            frameborder=\"0\"\n",
       "            allowfullscreen\n",
       "        ></iframe>\n",
       "        "
      ],
      "text/plain": [
       "<IPython.lib.display.IFrame at 0x7f55f41b1280>"
      ]
     },
     "metadata": {},
     "output_type": "display_data"
    },
    {
     "data": {
      "text/html": [
       "\n",
       "        <iframe\n",
       "            width=\"1000\"\n",
       "            height=\"500\"\n",
       "            src=\"../Traffic_Accient/TFT/Transformation_Html/normal_POISSON.html\"\n",
       "            frameborder=\"0\"\n",
       "            allowfullscreen\n",
       "        ></iframe>\n",
       "        "
      ],
      "text/plain": [
       "<IPython.lib.display.IFrame at 0x7f55f41b1280>"
      ]
     },
     "metadata": {},
     "output_type": "display_data"
    },
    {
     "data": {
      "text/html": [
       "\n",
       "        <iframe\n",
       "            width=\"1000\"\n",
       "            height=\"500\"\n",
       "            src=\"../Traffic_Accient/TFT/Transformation_Html/high_MV.html\"\n",
       "            frameborder=\"0\"\n",
       "            allowfullscreen\n",
       "        ></iframe>\n",
       "        "
      ],
      "text/plain": [
       "<IPython.lib.display.IFrame at 0x7f55f41b1280>"
      ]
     },
     "metadata": {},
     "output_type": "display_data"
    },
    {
     "data": {
      "text/html": [
       "\n",
       "        <iframe\n",
       "            width=\"1000\"\n",
       "            height=\"500\"\n",
       "            src=\"../Traffic_Accient/TFT/Transformation_Html/normal_Noraml_PDF_std.html\"\n",
       "            frameborder=\"0\"\n",
       "            allowfullscreen\n",
       "        ></iframe>\n",
       "        "
      ],
      "text/plain": [
       "<IPython.lib.display.IFrame at 0x7f55f41b1280>"
      ]
     },
     "metadata": {},
     "output_type": "display_data"
    },
    {
     "data": {
      "text/html": [
       "\n",
       "        <iframe\n",
       "            width=\"1000\"\n",
       "            height=\"500\"\n",
       "            src=\"../Traffic_Accient/TFT/Transformation_Html/many_continue_EWMA.html\"\n",
       "            frameborder=\"0\"\n",
       "            allowfullscreen\n",
       "        ></iframe>\n",
       "        "
      ],
      "text/plain": [
       "<IPython.lib.display.IFrame at 0x7f55f41b1280>"
      ]
     },
     "metadata": {},
     "output_type": "display_data"
    },
    {
     "data": {
      "text/html": [
       "\n",
       "        <iframe\n",
       "            width=\"1000\"\n",
       "            height=\"500\"\n",
       "            src=\"../Traffic_Accient/TFT/Transformation_Html/many_continue_Noraml_PDF_std.html\"\n",
       "            frameborder=\"0\"\n",
       "            allowfullscreen\n",
       "        ></iframe>\n",
       "        "
      ],
      "text/plain": [
       "<IPython.lib.display.IFrame at 0x7f55f41b1280>"
      ]
     },
     "metadata": {},
     "output_type": "display_data"
    },
    {
     "data": {
      "text/html": [
       "\n",
       "        <iframe\n",
       "            width=\"1000\"\n",
       "            height=\"500\"\n",
       "            src=\"../Traffic_Accient/TFT/Transformation_Html/high_POISSON.html\"\n",
       "            frameborder=\"0\"\n",
       "            allowfullscreen\n",
       "        ></iframe>\n",
       "        "
      ],
      "text/plain": [
       "<IPython.lib.display.IFrame at 0x7f55f41b1280>"
      ]
     },
     "metadata": {},
     "output_type": "display_data"
    },
    {
     "data": {
      "text/html": [
       "\n",
       "        <iframe\n",
       "            width=\"1000\"\n",
       "            height=\"500\"\n",
       "            src=\"../Traffic_Accient/TFT/Transformation_Html/many_continue_POISSON.html\"\n",
       "            frameborder=\"0\"\n",
       "            allowfullscreen\n",
       "        ></iframe>\n",
       "        "
      ],
      "text/plain": [
       "<IPython.lib.display.IFrame at 0x7f55f41b1280>"
      ]
     },
     "metadata": {},
     "output_type": "display_data"
    },
    {
     "data": {
      "text/html": [
       "\n",
       "        <iframe\n",
       "            width=\"1000\"\n",
       "            height=\"500\"\n",
       "            src=\"../Traffic_Accient/TFT/Transformation_Html/normal_EWMA.html\"\n",
       "            frameborder=\"0\"\n",
       "            allowfullscreen\n",
       "        ></iframe>\n",
       "        "
      ],
      "text/plain": [
       "<IPython.lib.display.IFrame at 0x7f55f41b1280>"
      ]
     },
     "metadata": {},
     "output_type": "display_data"
    },
    {
     "data": {
      "text/html": [
       "\n",
       "        <iframe\n",
       "            width=\"1000\"\n",
       "            height=\"500\"\n",
       "            src=\"../Traffic_Accient/TFT/Transformation_Html/high_Noraml_PDF_std.html\"\n",
       "            frameborder=\"0\"\n",
       "            allowfullscreen\n",
       "        ></iframe>\n",
       "        "
      ],
      "text/plain": [
       "<IPython.lib.display.IFrame at 0x7f55f41b1280>"
      ]
     },
     "metadata": {},
     "output_type": "display_data"
    },
    {
     "data": {
      "text/html": [
       "\n",
       "        <iframe\n",
       "            width=\"1000\"\n",
       "            height=\"500\"\n",
       "            src=\"../Traffic_Accient/TFT/Transformation_Html/high_EWMA.html\"\n",
       "            frameborder=\"0\"\n",
       "            allowfullscreen\n",
       "        ></iframe>\n",
       "        "
      ],
      "text/plain": [
       "<IPython.lib.display.IFrame at 0x7f55f41b1280>"
      ]
     },
     "metadata": {},
     "output_type": "display_data"
    }
   ],
   "source": [
    "from IPython.display import display, IFrame\n",
    "import os\n",
    "\n",
    "# Get the list of all files in the directory\n",
    "all_files = os.listdir('../Traffic_Accient/TFT/Transformation_Html')\n",
    "\n",
    "# Filter out all non-html files\n",
    "html_files = [file for file in all_files if file.endswith('.html')]\n",
    "\n",
    "# Display each HTML file\n",
    "for file in html_files:\n",
    "    display(IFrame(src=f'../Traffic_Accient/TFT/Transformation_Html/{file}', width=1000, height=500))\n"
   ]
  },
  {
   "cell_type": "markdown",
   "id": "1592efaa",
   "metadata": {},
   "source": [
    "# 학습용 코드 \n",
    "\n",
    "pytorch-forecasting을 업데이트를 해서 기존의 코드를 사용하면 에러남    \n",
    "코드 수정후 window_size와 lr별로 turning 진행  \n",
    "\n",
    "> MA : http://202.31.200.194:8888/notebooks/NPLAB-NAS/Members/SEO/Emergency_Demand/Traffic_Accient/TFT/BaseModel_Long%20Beach_5_Temporal%20Sparsity_MA.ipynb\n",
    "\n",
    "> EWMA : http://202.31.200.194:8888/notebooks/NPLAB-NAS/Members/SEO/Emergency_Demand/Traffic_Accient/TFT/BaseModel_Long%20Beach_5_Temporal%20Sparsity_EMWA.ipynb\n",
    "\n",
    "> Possion : http://202.31.200.12:10614/notebooks/thkim/SEO/Emergency_Demand/BaseModel_Long%20Beach_5_Temporal%20Sparsity_Possion.ipynb\n",
    "\n",
    "> Normal Dist : http://202.31.200.12:10614/notebooks/thkim/SEO/Emergency_Demand/BaseModel_Long%20Beach_5_Temporal%20Sparsity_Normal_Dist.ipynb"
   ]
  },
  {
   "cell_type": "markdown",
   "id": "6ccec039",
   "metadata": {},
   "source": [
    "# 학습 결과 코드\n",
    "early_stopping이 끝난 시간 , 실행시간등을 기록\n",
    "\n",
    "> http://202.31.200.194:8888/notebooks/NPLAB-NAS/Members/SEO/Emergency_Demand/Traffic_Accient/TFT/Transform_Result.ipynb#\n",
    "\n",
    "> http://202.31.200.12:10614/notebooks/thkim/SEO/Emergency_Demand/Transform_Result.ipynb"
   ]
  },
  {
   "cell_type": "code",
   "execution_count": null,
   "id": "88747334",
   "metadata": {},
   "outputs": [],
   "source": []
  }
 ],
 "metadata": {
  "kernelspec": {
   "display_name": "Python 3",
   "language": "python",
   "name": "python3"
  },
  "language_info": {
   "codemirror_mode": {
    "name": "ipython",
    "version": 3
   },
   "file_extension": ".py",
   "mimetype": "text/x-python",
   "name": "python",
   "nbconvert_exporter": "python",
   "pygments_lexer": "ipython3",
   "version": "3.8.10"
  }
 },
 "nbformat": 4,
 "nbformat_minor": 5
}
